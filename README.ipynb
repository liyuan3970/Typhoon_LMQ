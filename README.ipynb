{
 "cells": [
  {
   "cell_type": "markdown",
   "metadata": {},
   "source": [
    "# 利齐马台风登录是雷达反演的3D风场结构特征分析"
   ]
  },
  {
   "cell_type": "markdown",
   "metadata": {},
   "source": [
    "![论文结构](paper/论文结构/论文结构.png)"
   ]
  },
  {
   "cell_type": "code",
   "execution_count": null,
   "metadata": {},
   "outputs": [],
   "source": []
  },
  {
   "cell_type": "markdown",
   "metadata": {},
   "source": [
    "# 论文基本图片和结论"
   ]
  },
  {
   "cell_type": "markdown",
   "metadata": {},
   "source": [
    "## 前言\n",
    "\n",
    "**略**"
   ]
  },
  {
   "cell_type": "markdown",
   "metadata": {},
   "source": [
    "## 台风概况\n",
    "![台风路径](src/台风路径.png)\n",
    "\n",
    "**论述要点**\n",
    "1.  台风的生命历程\n",
    "2.  台风在近海缓慢移动\n",
    "3.  台风长时间停滞浙江\n",
    "\n",
    "此次台风损失巨大，那么为什么会如此呢？从台风登陆前，环境场的分析来看"
   ]
  },
  {
   "cell_type": "markdown",
   "metadata": {},
   "source": [
    "## 环流形式\n",
    "\n",
    "|a|b|\n",
    "|-|-|\n",
    "|![](src/2019080806.png)|![](src/2019080912.png)|\n",
    "\n",
    "|c|d|\n",
    "|-|-|\n",
    "|![](src/2019081000.png)|![](src/2019081006.png)|\n",
    "\n",
    "\n",
    "**论述要点**\n",
    "1.  高空槽和副热带高压的位置，是台风先西北移动，之后向北缓慢移动的原因\n",
    "2.  强劲的西南气流和台风罗莎源源不断的向利齐马输送水汽\n",
    "\n",
    "\n",
    "**结论**：台风登录前一直保持高能高水汽，并且登录后停滞时间长\n",
    "\n",
    "|a|b|\n",
    "|-|-|\n",
    "|![](src/2019080806_omega.png)|![](src/2019080912_omega.png)|\n",
    "\n",
    "|c|d|\n",
    "|-|-|\n",
    "|![](src/2019081000_omega.png)|![](src/2019081006_omega.png)|\n",
    "\n",
    "**论述要点**\n",
    "1. 台风登录前，一直保持着高能量，高强度\n",
    "2. 台风登陆后，高层能量消失\n",
    "3. 底层自始至终有一个强的幅合层\n",
    "4. 台风强回波带的持续时间最长\n",
    "\n",
    "\n",
    "\n",
    "### 垂直结构\n",
    "\n",
    "\n",
    "### 可降水率的分析"
   ]
  },
  {
   "cell_type": "code",
   "execution_count": null,
   "metadata": {},
   "outputs": [],
   "source": []
  }
 ],
 "metadata": {
  "kernelspec": {
   "display_name": "Python 3",
   "language": "python",
   "name": "python3"
  },
  "language_info": {
   "codemirror_mode": {
    "name": "ipython",
    "version": 3
   },
   "file_extension": ".py",
   "mimetype": "text/x-python",
   "name": "python",
   "nbconvert_exporter": "python",
   "pygments_lexer": "ipython3",
   "version": "3.7.1"
  }
 },
 "nbformat": 4,
 "nbformat_minor": 2
}
