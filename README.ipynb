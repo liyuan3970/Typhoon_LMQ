{
 "cells": [
  {
   "cell_type": "markdown",
   "metadata": {},
   "source": [
    "# 利齐马台风登录是雷达反演的3D风场结构特征分析"
   ]
  },
  {
   "cell_type": "markdown",
   "metadata": {},
   "source": [
    "![论文结构](paper/论文结构/论文结构.png)"
   ]
  },
  {
   "cell_type": "code",
   "execution_count": null,
   "metadata": {},
   "outputs": [],
   "source": []
  },
  {
   "cell_type": "markdown",
   "metadata": {},
   "source": [
    "# 论文基本图片和结论"
   ]
  },
  {
   "cell_type": "markdown",
   "metadata": {},
   "source": [
    "## 前言\n",
    "\n",
    "**略**"
   ]
  },
  {
   "cell_type": "markdown",
   "metadata": {},
   "source": [
    "## 台风概况\n",
    "![台风路径](src/台风路径.png)\n",
    "\n",
    "**论述要点**\n",
    "1.  台风的生命历程\n",
    "2.  台风在近海缓慢移动\n",
    "3.  台风长时间停滞浙江\n",
    "\n",
    "此次台风损失巨大，那么为什么会如此呢？从台风登陆前，环境场的分析来看"
   ]
  },
  {
   "cell_type": "markdown",
   "metadata": {},
   "source": [
    "## 环流形式\n",
    "\n",
    "|a|b|\n",
    "|-|-|\n",
    "|![](src/2019080806.png)|![](src/2019080912.png)|\n",
    "\n",
    "|c|d|\n",
    "|-|-|\n",
    "|![](src/2019081000.png)|![](src/2019081006.png)|\n",
    "\n",
    "\n",
    "**论述要点**\n",
    "1.  高空槽和副热带高压的位置，是台风先西北移动，之后向北缓慢移动的原因\n",
    "2.  强劲的西南气流和台风罗莎源源不断的向利齐马输送水汽\n",
    "\n",
    "\n",
    "**结论**：台风登录前一直保持高能高水汽，并且登录后停滞时间长\n",
    "\n",
    "|a|b|\n",
    "|-|-|\n",
    "|![](src/2019080806_omega.png)|![](src/2019080912_omega.png)|\n",
    "\n",
    "|c|d|\n",
    "|-|-|\n",
    "|![](src/2019081000_omega.png)|![](src/2019081006_omega.png)|\n",
    "\n",
    "**论述要点**\n",
    "1. 台风登录前，一直保持着高能量，高强度\n",
    "2. 台风登陆后，高层能量消失\n",
    "3. 底层自始至终有一个强的幅合层\n",
    "4. 台风强回波带的持续时间最长\n",
    "\n",
    "\n",
    "\n",
    "\n",
    "\n",
    "### 可降水率的分析\n",
    "既然这个台风强度这么大，那么对应的降水如何？\n"
   ]
  },
  {
   "cell_type": "markdown",
   "metadata": {},
   "source": [
    "\n",
    "\n",
    "![可降水量](src/predictable_water.png)"
   ]
  },
  {
   "cell_type": "markdown",
   "metadata": {},
   "source": [
    "### 可降水量的分析：\n",
    "1. 降水确实很多\n",
    "2. 可降水量反应了台风整个结构的降水量，但是并不能够显示局地的细节的将水分布的差异\n",
    "3. 可在分析资料都是过后数据，时间上不能像自动站一样实时\n",
    "\n",
    "# SO？\n",
    "**雷达其实挺重要的！接下**"
   ]
  },
  {
   "cell_type": "markdown",
   "metadata": {},
   "source": [
    "# 台风登录时雷达产品的plot"
   ]
  },
  {
   "cell_type": "markdown",
   "metadata": {},
   "source": [
    "### 台风登录时的max反射率和台风云墙的切片(温州雷达)"
   ]
  },
  {
   "cell_type": "markdown",
   "metadata": {},
   "source": [
    "![](src/CR_slice.png)"
   ]
  },
  {
   "cell_type": "markdown",
   "metadata": {},
   "source": [
    "### 主要结论\n",
    "1. 强回波区主要在台风西北象限，台风云墙区，从台风中心到外围三层\n",
    "2. 对应切片上三个强回波区\n",
    "\n",
    "环流降水？\n",
    "\n"
   ]
  },
  {
   "cell_type": "markdown",
   "metadata": {},
   "source": [
    "## 雷达回波粗略估计强降水落区"
   ]
  },
  {
   "cell_type": "markdown",
   "metadata": {},
   "source": [
    "|回波顶高|降水估计|\n",
    "|-|-|\n",
    "|![](src/ET.png)|![](src/P.png)|"
   ]
  },
  {
   "cell_type": "markdown",
   "metadata": {},
   "source": [
    "## 雷达高度处风场的反演"
   ]
  },
  {
   "cell_type": "markdown",
   "metadata": {},
   "source": [
    "## 核心算法\n"
   ]
  },
  {
   "cell_type": "markdown",
   "metadata": {},
   "source": [
    "![](src/algroph1.png)<br>\n",
    "![](src/algroph2.png)<br>\n",
    "![](src/table1.png)"
   ]
  },
  {
   "cell_type": "markdown",
   "metadata": {},
   "source": [
    "### 反演3d风场的细节选项\n",
    "1. 对雷达速度退模糊滤波处理的方法\n",
    "   1. Dealias Doppler velocities using multi-dimensional phase unwrapping [1]_ and [2]_.\n",
    "   2. Dealias Doppler velocities using a region based algorithm.(**本文所选用的方法**)\n",
    "   3. Dealias Doppler velocities using the 4DD algorithm.\n",
    "2. 反演3D风场时初始场的选择\n",
    "    1.  makes a constant wind field given a wind vector.用常数\n",
    "    2. makes a 3D wind field from a sounding.探空资料\n",
    "    3. This function makes an initalization field based off of the u and w from a WRF run.数值模式输出资料\n",
    "    4. read ERA Interim in NetCDF format and add it to the Py-ART grid specified by Grid.EC数据(**本文采用的方法**)\n",
    "    \n",
    "### 算法优缺点\n",
    "1. 可选方法多,参数多,有源码\n",
    "2. 较为成熟,使用的的人多\n",
    "3. 计算耗时(也可能是我分辨率过细),计算复杂度高"
   ]
  },
  {
   "cell_type": "code",
   "execution_count": null,
   "metadata": {},
   "outputs": [],
   "source": []
  },
  {
   "cell_type": "markdown",
   "metadata": {},
   "source": [
    "## 结果"
   ]
  },
  {
   "cell_type": "markdown",
   "metadata": {},
   "source": [
    "|雷达速度（退模糊）|平面风场的反演|\n",
    "|-|-|\n",
    "|![](src/V.png)|![](src/2D_Wind.png)|"
   ]
  },
  {
   "cell_type": "markdown",
   "metadata": {},
   "source": [
    "# 台风中心的水平（经）向垂直切片"
   ]
  },
  {
   "cell_type": "markdown",
   "metadata": {},
   "source": [
    "|雷达剖面切片|雷达回拨|\n",
    "|-|-|\n",
    "|![](src/Vertical_slice.png)|![](src/Radar_latlon.png)|"
   ]
  },
  {
   "cell_type": "code",
   "execution_count": null,
   "metadata": {},
   "outputs": [],
   "source": []
  },
  {
   "cell_type": "markdown",
   "metadata": {},
   "source": [
    "# 待完成(地形的作用)\n"
   ]
  },
  {
   "cell_type": "markdown",
   "metadata": {},
   "source": [
    "![](src/zhejiang.png)"
   ]
  },
  {
   "cell_type": "markdown",
   "metadata": {},
   "source": [
    "#### 地形的作用(拟采用的方案)?(未完成)\n",
    "1. 将反演好的风场w整层的最大值叠加在地形上看看\n",
    "2. 剖面图叠加地形"
   ]
  },
  {
   "cell_type": "markdown",
   "metadata": {},
   "source": [
    "# 结论"
   ]
  },
  {
   "cell_type": "code",
   "execution_count": null,
   "metadata": {},
   "outputs": [],
   "source": []
  },
  {
   "cell_type": "markdown",
   "metadata": {},
   "source": [
    "# 展望"
   ]
  },
  {
   "cell_type": "code",
   "execution_count": null,
   "metadata": {},
   "outputs": [],
   "source": []
  }
 ],
 "metadata": {
  "kernelspec": {
   "display_name": "Python 3",
   "language": "python",
   "name": "python3"
  },
  "language_info": {
   "codemirror_mode": {
    "name": "ipython",
    "version": 3
   },
   "file_extension": ".py",
   "mimetype": "text/x-python",
   "name": "python",
   "nbconvert_exporter": "python",
   "pygments_lexer": "ipython3",
   "version": "3.7.1"
  }
 },
 "nbformat": 4,
 "nbformat_minor": 2
}
