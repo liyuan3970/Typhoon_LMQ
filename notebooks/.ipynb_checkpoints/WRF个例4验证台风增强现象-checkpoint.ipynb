{
 "cells": [
  {
   "cell_type": "markdown",
   "metadata": {},
   "source": [
    "\n",
    "# 数值模式的验证"
   ]
  },
  {
   "cell_type": "code",
   "execution_count": 17,
   "metadata": {},
   "outputs": [
    {
     "name": "stdout",
     "output_type": "stream",
     "text": [
      "950.4955\n"
     ]
    },
    {
     "data": {
      "text/plain": [
       "<xarray.DataArray 'slp' (south_north: 159, west_east: 168)>\n",
       "array([[1038.2673 , 1039.2417 , 1039.9054 , ..., 1022.3739 , 1022.2769 ,\n",
       "        1022.1835 ],\n",
       "       [1038.1384 , 1038.7767 , 1041.1494 , ..., 1022.3385 , 1022.2475 ,\n",
       "        1022.15906],\n",
       "       [1038.7028 , 1037.2277 , 1039.9587 , ..., 1022.302  , 1022.21643,\n",
       "        1022.13367],\n",
       "       ...,\n",
       "       [1045.005  , 1045.0227 , 1045.0828 , ..., 1045.1139 , 1045.1578 ,\n",
       "        1045.203  ],\n",
       "       [1044.942  , 1044.9812 , 1045.0385 , ..., 1045.2521 , 1045.2974 ,\n",
       "        1045.3425 ],\n",
       "       [1044.8969 , 1044.9524 , 1045.019  , ..., 1045.3907 , 1045.4365 ,\n",
       "        1045.4827 ]], dtype=float32)\n",
       "Coordinates:\n",
       "    XLONG    (south_north, west_east) float32 118.36749 118.3978 ... 123.52594\n",
       "    XLAT     (south_north, west_east) float32 27.1268 27.127438 ... 31.39713\n",
       "    XTIME    float32 0.0\n",
       "    Time     datetime64[ns] 2019-08-09T06:00:00\n",
       "Dimensions without coordinates: south_north, west_east\n",
       "Attributes:\n",
       "    FieldType:    104\n",
       "    MemoryOrder:  XY\n",
       "    description:  sea level pressure\n",
       "    units:        hPa\n",
       "    stagger:      \n",
       "    coordinates:  XLONG XLAT XTIME\n",
       "    projection:   LambertConformal(stand_lon=121.125, moad_cen_lat=29.2059783..."
      ]
     },
     "execution_count": 17,
     "metadata": {},
     "output_type": "execute_result"
    }
   ],
   "source": [
    "%matplotlib inline\n",
    "from netCDF4 import Dataset\n",
    "import matplotlib.pyplot as plt\n",
    "from matplotlib.cm import get_cmap\n",
    "import cartopy.crs as crs\n",
    "from cartopy.feature import NaturalEarthFeature\n",
    "\n",
    "from wrf import (to_np, getvar, smooth2d, get_cartopy, cartopy_xlim,\n",
    "                 cartopy_ylim, latlon_coords)\n",
    "\n",
    "# Open the NetCDF file\n",
    "filepath = \"/media/liyuan3970/Data/demo4_run2/\"\n",
    "ncfile =Dataset(filepath+\"wrfout_d02_2019-08-09_06:00:00.nc\")\n",
    "\n",
    "\n",
    "# Get the sea level pressure\n",
    "w = getvar(ncfile, \"slp\", timeidx=88)\n",
    "#w\n",
    "#print(w.min)\n",
    "data = w.data\n",
    "print(data.min())\n",
    "\n",
    "\n",
    "slp_value = []\n",
    "for i in range(300):\n",
    "    slp = getvar(ncfile, \"slp\", timeidx=i)\n",
    "    slp_min = slp.data.min()\n",
    "    slp_value.append(slp_min)\n"
   ]
  }
 ],
 "metadata": {
  "kernelspec": {
   "display_name": "Python 3",
   "language": "python",
   "name": "python3"
  },
  "language_info": {
   "codemirror_mode": {
    "name": "ipython",
    "version": 3
   },
   "file_extension": ".py",
   "mimetype": "text/x-python",
   "name": "python",
   "nbconvert_exporter": "python",
   "pygments_lexer": "ipython3",
   "version": "3.7.1"
  }
 },
 "nbformat": 4,
 "nbformat_minor": 2
}
