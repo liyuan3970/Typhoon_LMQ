{
 "cells": [
  {
   "cell_type": "markdown",
   "metadata": {},
   "source": [
    "## 绘制一天的雷达回波\n",
    "\n"
   ]
  },
  {
   "cell_type": "code",
   "execution_count": null,
   "metadata": {},
   "outputs": [],
   "source": [
    "import os\n",
    "%matplotlib inline\n",
    "import matplotlib \n",
    "import cinrad\n",
    "path = \"/home/liyuan3970/Data/data/meto_data/radar_typhoon_liqima/wenzhou_rada/09/\"\n",
    "file = os.listdir(path)\n",
    "file.sort()\n",
    "\n",
    "def plot(filename):\n",
    "    file = path +filename\n",
    "    f = cinrad.io.CinradReader(file)\n",
    "    tilt_number = 0\n",
    "    data_radius = 230\n",
    "    data_dtype = 'REF' # stands for reflectivity\n",
    "    rl = list(f.iter_tilt(230, 'REF'))\n",
    "    #rl = list(f.iter_tilt(230, 'VEL'))\n",
    "    cr = cinrad.easycalc.quick_cr(rl)\n",
    "    fig = cinrad.visualize.PPI(cr, dpi=50)    \n",
    "\n",
    "for i in file:\n",
    "    plot(i)\n"
   ]
  }
 ],
 "metadata": {
  "kernelspec": {
   "display_name": "Python 3",
   "language": "python",
   "name": "python3"
  },
  "language_info": {
   "codemirror_mode": {
    "name": "ipython",
    "version": 3
   },
   "file_extension": ".py",
   "mimetype": "text/x-python",
   "name": "python",
   "nbconvert_exporter": "python",
   "pygments_lexer": "ipython3",
   "version": "3.7.1"
  }
 },
 "nbformat": 4,
 "nbformat_minor": 2
}
