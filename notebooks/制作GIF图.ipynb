{
 "cells": [
  {
   "cell_type": "code",
   "execution_count": 20,
   "metadata": {},
   "outputs": [],
   "source": [
    "import numpy as np\n",
    "from PIL import Image\n",
    "import os\n",
    "import time\n",
    "import matplotlib.pyplot as plt\n",
    "import imageio\n",
    "#from moviepy.editor import ImageSequenceClip\n",
    "\n",
    "path = \"/home/liyuan3970/Typhoon_LMQ/AI_pred_demo/data/\"\n",
    "file = os.listdir(path)\n",
    "file.sort()\n",
    "for i in range(len(file)):\n",
    "    file[i] = path +file[i]\n",
    "    #print(i)\n",
    "    \n",
    "#print(file)"
   ]
  },
  {
   "cell_type": "code",
   "execution_count": 21,
   "metadata": {},
   "outputs": [],
   "source": [
    "import imageio\n",
    "\n",
    "\n",
    "def create_gif(image_list, gif_name, duration=0.35):\n",
    "    frames = []\n",
    "    for image_name in image_list:\n",
    "        frames.append(imageio.imread(image_name))\n",
    "    imageio.mimsave(gif_name, frames, 'GIF', duration=duration)\n",
    "    return\n",
    "\n",
    "\n",
    "def main():\n",
    "    image_list =file\n",
    "    gif_name = 'test.gif'\n",
    "    duration = 0.35\n",
    "    create_gif(image_list, gif_name, duration)\n",
    "\n",
    "\n",
    "if __name__ == '__main__':\n",
    "    main()"
   ]
  }
 ],
 "metadata": {
  "kernelspec": {
   "display_name": "Python 3",
   "language": "python",
   "name": "python3"
  },
  "language_info": {
   "codemirror_mode": {
    "name": "ipython",
    "version": 3
   },
   "file_extension": ".py",
   "mimetype": "text/x-python",
   "name": "python",
   "nbconvert_exporter": "python",
   "pygments_lexer": "ipython3",
   "version": "3.7.1"
  }
 },
 "nbformat": 4,
 "nbformat_minor": 2
}
