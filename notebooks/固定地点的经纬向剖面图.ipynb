{
 "cells": [
  {
   "cell_type": "code",
   "execution_count": 1,
   "metadata": {},
   "outputs": [],
   "source": [
    "%matplotlib inline"
   ]
  },
  {
   "cell_type": "code",
   "execution_count": null,
   "metadata": {},
   "outputs": [],
   "source": [
    "from matplotlib import cm, colors\n",
    "\n",
    "import numpy as np\n",
    "\n",
    "import matplotlib.pyplot as plt\n",
    "from ncmaps import Cmaps\n",
    "from netCDF4 import Dataset\n",
    "f = Dataset('/home/liyuan3970/test_demo/meto/demo6/Radar.nc')\n",
    "\n",
    "lons = f.variables['lon'][:]\n",
    "lats = f.variables['lat'][::]\n",
    "heigh = f.variables['heigh'][:]\n",
    "#print(level)\n",
    "u = f.variables['u'][0,:,152,:]\n",
    "v = f.variables['v'][0,:,152,:]\n",
    "w = f.variables['w'][0,:,152,:]\n",
    "ref = f.variables['ref'][0,:,152,:]\n",
    "\n",
    "print(u.shape)\n",
    "\n",
    "\n",
    "# Contour Plot\n",
    "X, Y = np.meshgrid(lons, heigh)\n",
    "Z = ref\n",
    "cp = plt.contourf(X, Y, Z,cmap = cmaps)\n",
    "cb = plt.colorbar(cp)\n",
    "\n",
    "\n",
    "# Vector Field\n",
    "\n",
    "x,y= np.meshgrid(lons[::5], heigh[::2])\n",
    "\n",
    "U =u[::2,::5]\n",
    "V = w[::2,::5]*5\n",
    "speed = np.sqrt(U**2 + V**2)\n",
    "\n",
    "quiv = plt.quiver(x, y, U, V,  # assign to var\n",
    "           color='Black', \n",
    "           headlength=4)\n",
    "\n",
    "plt.show()\n"
   ]
  },
  {
   "cell_type": "code",
   "execution_count": 3,
   "metadata": {},
   "outputs": [
    {
     "name": "stdout",
     "output_type": "stream",
     "text": [
      "/bin/sh: 1: ncl: not found\n"
     ]
    }
   ],
   "source": [
    "!ncl"
   ]
  },
  {
   "cell_type": "code",
   "execution_count": 4,
   "metadata": {},
   "outputs": [
    {
     "name": "stdout",
     "output_type": "stream",
     "text": [
      "单多普勒雷达反演结果和垂直剖面风场图.ipynb  雷达降水评估和回波切片.ipynb\n",
      "反演结果输出成格点数据.ipynb\t\t    宁波雷达.ipynb\n",
      "固定地点的经纬向剖面图.ipynb\t\t    台风登陆雷达回波产品.ipynb\n",
      "湖州雷达.ipynb\t\t\t\t    温州逐小时雷达回波.ipynb\n"
     ]
    }
   ],
   "source": [
    "!ls"
   ]
  },
  {
   "cell_type": "code",
   "execution_count": 5,
   "metadata": {},
   "outputs": [
    {
     "name": "stdout",
     "output_type": "stream",
     "text": [
      "单多普勒雷达反演结果和垂直剖面风场图.ipynb  雷达降水评估和回波切片.ipynb\n",
      "反演结果输出成格点数据.ipynb\t\t    宁波雷达.ipynb\n",
      "固定地点的经纬向剖面图.ipynb\t\t    台风登陆雷达回波产品.ipynb\n",
      "湖州雷达.ipynb\t\t\t\t    温州逐小时雷达回波.ipynb\n"
     ]
    }
   ],
   "source": [
    "! ls"
   ]
  },
  {
   "cell_type": "code",
   "execution_count": null,
   "metadata": {},
   "outputs": [],
   "source": []
  }
 ],
 "metadata": {
  "kernelspec": {
   "display_name": "Python 3",
   "language": "python",
   "name": "python3"
  },
  "language_info": {
   "codemirror_mode": {
    "name": "ipython",
    "version": 3
   },
   "file_extension": ".py",
   "mimetype": "text/x-python",
   "name": "python",
   "nbconvert_exporter": "python",
   "pygments_lexer": "ipython3",
   "version": "3.7.1"
  }
 },
 "nbformat": 4,
 "nbformat_minor": 2
}
