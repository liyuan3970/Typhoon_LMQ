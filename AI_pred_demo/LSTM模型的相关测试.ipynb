{
 "cells": [
  {
   "cell_type": "code",
   "execution_count": 3,
   "metadata": {},
   "outputs": [],
   "source": [
    "import numpy as np\n",
    "from PIL import Image\n",
    "import tensorflow as tf\n",
    "import os\n",
    "from keras.models import Sequential\n",
    "from keras.layers.convolutional import Conv3D\n",
    "from keras.layers.convolutional_recurrent import ConvLSTM2D\n",
    "from keras.layers.normalization import BatchNormalization\n",
    "import matplotlib.pyplot as plt\n",
    "import time\n",
    "#from keras.utils import multi_gpu_model\n",
    "from keras import optimizers"
   ]
  },
  {
   "cell_type": "code",
   "execution_count": 7,
   "metadata": {},
   "outputs": [],
   "source": [
    "WIDTH = 100\n",
    "HEIGHT = 100\n",
    "FRAMES = 16"
   ]
  },
  {
   "cell_type": "markdown",
   "metadata": {},
   "source": [
    "## 读取文件"
   ]
  },
  {
   "cell_type": "code",
   "execution_count": 9,
   "metadata": {},
   "outputs": [
    {
     "name": "stdout",
     "output_type": "stream",
     "text": [
      "(80, 10000)\n",
      "Data loaded.\n",
      "2020-05-20 20:00:01\n",
      "80\n"
     ]
    }
   ],
   "source": [
    "# 图片是80张 10000像素\n",
    "SEQUENCE = np.load('sequence_array.npz')['sequence_array']  # load array\n",
    "print(SEQUENCE.shape)\n",
    "print('Data loaded.')\n",
    "print(time.strftime('%Y-%m-%d %H:%M:%S', time.localtime()))\n",
    "\n",
    "NUMBER = len(SEQUENCE)\n",
    "print(NUMBER)"
   ]
  },
  {
   "cell_type": "code",
   "execution_count": 29,
   "metadata": {},
   "outputs": [
    {
     "name": "stdout",
     "output_type": "stream",
     "text": [
      "(80, 100, 100, 1)\n",
      "0 64 65\n",
      "1 65 66\n",
      "2 66 67\n",
      "3 67 68\n",
      "4 68 69\n",
      "5 69 70\n",
      "6 70 71\n",
      "7 71 72\n",
      "8 72 73\n",
      "9 73 74\n",
      "10 74 75\n",
      "11 75 76\n",
      "12 76 77\n",
      "13 77 78\n",
      "14 78 79\n",
      "15 79 80\n",
      "(64, 16, 100, 100, 1)\n"
     ]
    }
   ],
   "source": [
    "# 将原始数据整合成80*100*100*1的特征形式\n",
    "SEQUENCE = SEQUENCE.reshape(NUMBER, WIDTH, HEIGHT, 1)\n",
    "print(SEQUENCE.shape)\n",
    "\n",
    "\n",
    "#def get_sequence()\n",
    "\n",
    "# 创建输入数据和输出数据\n",
    "SEQUENCE = SEQUENCE.reshape(NUMBER, WIDTH, HEIGHT, 1)\n",
    "BASIC_SEQUENCE = np.zeros((NUMBER-FRAMES, FRAMES, WIDTH, HEIGHT, 1))\n",
    "NEXT_SEQUENCE = np.zeros((NUMBER-FRAMES, FRAMES, WIDTH, HEIGHT, 1))\n",
    "\n",
    "\n",
    "# NUMBER = 80 FARM=16\n",
    "for i in range(FRAMES):\n",
    "    print(i,i+NUMBER-FRAMES,i+NUMBER-FRAMES+1)\n",
    "    BASIC_SEQUENCE[:, i, :, :, :] = SEQUENCE[i:i+NUMBER-FRAMES]\n",
    "    NEXT_SEQUENCE[:, i, :, :, :] = SEQUENCE[i+1:i+NUMBER-FRAMES+1]\n",
    "    \n",
    "print(BASIC_SEQUENCE.shape)    \n",
    "\n",
    "    "
   ]
  },
  {
   "cell_type": "code",
   "execution_count": 33,
   "metadata": {},
   "outputs": [
    {
     "data": {
      "text/plain": [
       "(10, 16, 100, 100, 1)"
      ]
     },
     "execution_count": 33,
     "metadata": {},
     "output_type": "execute_result"
    }
   ],
   "source": [
    "BASIC_SEQUENCE[:10].shape"
   ]
  },
  {
   "cell_type": "code",
   "execution_count": 10,
   "metadata": {},
   "outputs": [],
   "source": [
    "%matplotlib inline "
   ]
  },
  {
   "cell_type": "code",
   "execution_count": 31,
   "metadata": {},
   "outputs": [
    {
     "data": {
      "image/png": "[encoded data removed]",
      "text/plain": [
       "<Figure size 432x288 with 1 Axes>"
      ]
     },
     "metadata": {
      "needs_background": "light"
     },
     "output_type": "display_data"
    }
   ],
   "source": [
    "plt.imshow(BASIC_SEQUENCE[1][15].reshape(100, 100))\n",
    "plt.show()"
   ]
  }
 ],
 "metadata": {
  "kernelspec": {
   "display_name": "Python 3",
   "language": "python",
   "name": "python3"
  },
  "language_info": {
   "codemirror_mode": {
    "name": "ipython",
    "version": 3
   },
   "file_extension": ".py",
   "mimetype": "text/x-python",
   "name": "python",
   "nbconvert_exporter": "python",
   "pygments_lexer": "ipython3",
   "version": "3.7.1"
  }
 },
 "nbformat": 4,
 "nbformat_minor": 2
}
